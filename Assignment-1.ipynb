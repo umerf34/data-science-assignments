{
  "metadata": {
    "kernelspec": {
      "name": "python",
      "display_name": "Python (Pyodide)",
      "language": "python"
    },
    "language_info": {
      "codemirror_mode": {
        "name": "python",
        "version": 3
      },
      "file_extension": ".py",
      "mimetype": "text/x-python",
      "name": "python",
      "nbconvert_exporter": "python",
      "pygments_lexer": "ipython3",
      "version": "3.8"
    }
  },
  "nbformat_minor": 4,
  "nbformat": 4,
  "cells": [
    {
      "cell_type": "code",
      "source": "# Assignment-1: Data Science Masters 2.0\n\n# Q1. Create one variable containing following type of data:\n# (i) string\n# (ii) list\n# (iii) float\n# (iv) tuple\n\n# Solution:\nstring_var = \"Hello, Data Science!\"\nlist_var = [1, 2, 3, 4, 5]\nfloat_var = 3.14159\ntuple_var = (10, 20, 30, 40, 50)\n\nprint(\"String variable:\", string_var)\nprint(\"List variable:\", list_var)\nprint(\"Float variable:\", float_var)\nprint(\"Tuple variable:\", tuple_var)",
      "metadata": {
        "trusted": true
      },
      "outputs": [
        {
          "name": "stdout",
          "text": "String variable: Hello, Data Science!\nList variable: [1, 2, 3, 4, 5]\nFloat variable: 3.14159\nTuple variable: (10, 20, 30, 40, 50)\n",
          "output_type": "stream"
        }
      ],
      "execution_count": 1
    },
    {
      "cell_type": "code",
      "source": "# Q2. Given are some following variables containing data:\n# (i) var1 = ' '\n# (ii) var2 = '[ DS , ML , Python]'\n# (iii) var3 = [ 'DS' , 'ML' , 'Python' ]\n# (iv) var4 = 1.\n\n# Solution:\nvar1 = ' '\nvar2 = '[ DS , ML , Python]'\nvar3 = [ 'DS' , 'ML' , 'Python' ]\nvar4 = 1.\n\nprint(\"Data type of var1:\", type(var1))\nprint(\"Data type of var2:\", type(var2))\nprint(\"Data type of var3:\", type(var3))\nprint(\"Data type of var4:\", type(var4))",
      "metadata": {
        "trusted": true
      },
      "outputs": [
        {
          "name": "stdout",
          "text": "Data type of var1: <class 'str'>\nData type of var2: <class 'str'>\nData type of var3: <class 'list'>\nData type of var4: <class 'float'>\n",
          "output_type": "stream"
        }
      ],
      "execution_count": 2
    },
    {
      "cell_type": "code",
      "source": "# Q3. Explain the use of the following operators using an example:\n# (i) /\n# (ii) %\n# (iii) //\n# (iv) **\n\n# Solution:\n\n# (i) / : Division operator\nprint(\"10 / 3 =\", 10 / 3)  # Returns a float\n\n# (ii) % : Modulo operator (remainder)\nprint(\"10 % 3 =\", 10 % 3)  # Returns the remainder\n\n# (iii) // : Floor division operator\nprint(\"10 // 3 =\", 10 // 3)  # Returns the quotient as an integer\n\n# (iv) ** : Exponentiation operator\nprint(\"2 ** 3 =\", 2 ** 3)  # Returns 2 raised to the power of 3",
      "metadata": {
        "trusted": true
      },
      "outputs": [
        {
          "name": "stdout",
          "text": "10 / 3 = 3.3333333333333335\n10 % 3 = 1\n10 // 3 = 3\n2 ** 3 = 8\n",
          "output_type": "stream"
        }
      ],
      "execution_count": 3
    },
    {
      "cell_type": "code",
      "source": "# Q4. Create a list of length 10 of your choice containing multiple types of data. \n# Using for loop print the element and its data type.\n\n# Solution:\nmixed_list = [42, \"Hello\", 3.14, True, [1, 2, 3], (4, 5, 6), {7, 8, 9}, {\"key\": \"value\"}, None, complex(1, 2)]\n\nfor item in mixed_list:\n    print(f\"Element: {item}, Data Type: {type(item)}\")",
      "metadata": {
        "trusted": true
      },
      "outputs": [
        {
          "name": "stdout",
          "text": "Element: 42, Data Type: <class 'int'>\nElement: Hello, Data Type: <class 'str'>\nElement: 3.14, Data Type: <class 'float'>\nElement: True, Data Type: <class 'bool'>\nElement: [1, 2, 3], Data Type: <class 'list'>\nElement: (4, 5, 6), Data Type: <class 'tuple'>\nElement: {8, 9, 7}, Data Type: <class 'set'>\nElement: {'key': 'value'}, Data Type: <class 'dict'>\nElement: None, Data Type: <class 'NoneType'>\nElement: (1+2j), Data Type: <class 'complex'>\n",
          "output_type": "stream"
        }
      ],
      "execution_count": 4
    },
    {
      "cell_type": "code",
      "source": "# Q5. Using a while loop, verify if the number A is purely divisible by number B \n# and if so then how many times it can be divisible.\n\n# Solution:\ndef check_divisibility(A, B):\n    if B == 0:\n        return \"Error: Cannot divide by zero\"\n    \n    count = 0\n    original_A = A\n    \n    while A % B == 0:\n        A = A // B\n        count += 1\n    \n    if count > 0:\n        return f\"{original_A} is divisible by {B} {count} times\"\n    else:\n        return f\"{original_A} is not purely divisible by {B}\"\n\n# Example usage:\nprint(check_divisibility(48, 2))\nprint(check_divisibility(100, 5))\nprint(check_divisibility(17, 3))",
      "metadata": {
        "trusted": true
      },
      "outputs": [],
      "execution_count": null
    },
    {
      "cell_type": "code",
      "source": "# Q6. Create a list containing 25 int type data. Using for loop and if-else condition \n# print if the element is divisible by 3 or not.\n\n# Solution:\nint_list = list(range(1, 26))  # Creates a list of integers from 1 to 25\n\nfor num in int_list:\n    if num % 3 == 0:\n        print(f\"{num} is divisible by 3\")\n    else:\n        print(f\"{num} is not divisible by 3\")",
      "metadata": {
        "trusted": true
      },
      "outputs": [],
      "execution_count": null
    },
    {
      "cell_type": "code",
      "source": "# Q7. What do you understand about mutable and immutable data types? \n# Give examples for both showing this property.\n\n# Solution:\n\n# Mutable data types can be changed after creation\nprint(\"Mutable data type example (list):\")\nmutable_list = [1, 2, 3]\nprint(\"Original list:\", mutable_list)\nmutable_list[1] = 20  # Modifying the list\nprint(\"Modified list:\", mutable_list)\n\nprint(\"\\nImmutable data type example (tuple):\")\nimmutable_tuple = (1, 2, 3)\nprint(\"Original tuple:\", immutable_tuple)\ntry:\n    immutable_tuple[1] = 20  # Attempting to modify the tuple\nexcept TypeError as e:\n    print(\"Error:\", str(e))\n\nprint(\"\\nImmutable data type example (string):\")\nimmutable_string = \"Hello\"\nprint(\"Original string:\", immutable_string)\nnew_string = immutable_string + \" World\"  # Creating a new string\nprint(\"New string:\", new_string)\nprint(\"Original string (unchanged):\", immutable_string)\n\n# Explanation:\n# Mutable data types (like lists, dictionaries, and sets) can be modified after creation.\n# Immutable data types (like strings, tuples, and numbers) cannot be changed after creation.\n# Any operation that seems to modify an immutable object actually creates a new object.",
      "metadata": {
        "trusted": true
      },
      "outputs": [
        {
          "name": "stdout",
          "text": "Mutable data type example (list):\nOriginal list: [1, 2, 3]\nModified list: [1, 20, 3]\n\nImmutable data type example (tuple):\nOriginal tuple: (1, 2, 3)\nError: 'tuple' object does not support item assignment\n\nImmutable data type example (string):\nOriginal string: Hello\nNew string: Hello World\nOriginal string (unchanged): Hello\n",
          "output_type": "stream"
        }
      ],
      "execution_count": 5
    }
  ]
}