{
  "metadata": {
    "kernelspec": {
      "name": "python",
      "display_name": "Python (Pyodide)",
      "language": "python"
    },
    "language_info": {
      "codemirror_mode": {
        "name": "python",
        "version": 3
      },
      "file_extension": ".py",
      "mimetype": "text/x-python",
      "name": "python",
      "nbconvert_exporter": "python",
      "pygments_lexer": "ipython3",
      "version": "3.8"
    }
  },
  "nbformat_minor": 4,
  "nbformat": 4,
  "cells": [
    {
      "cell_type": "code",
      "source": "# Assignment-2: Data Science Masters 2.0\n\n# Q1. How do you comment code in Python? What are the different types of comments?\n\n# This is a single-line comment in Python\n\n\"\"\"\nThis is a multi-line comment in Python.\nIt can span across several lines.\n\"\"\"\n\n'''\nThis is also a multi-line comment.\nYou can use either single or double quotes.\n'''\n\n# Types of comments:\n# 1. Single-line comments: Start with #\n# 2. Multi-line comments: Enclosed in triple quotes (''' or \"\"\")",
      "metadata": {
        "trusted": true
      },
      "outputs": [
        {
          "execution_count": 1,
          "output_type": "execute_result",
          "data": {
            "text/plain": "'\\nThis is also a multi-line comment.\\nYou can use either single or double quotes.\\n'"
          },
          "metadata": {}
        }
      ],
      "execution_count": 1
    },
    {
      "cell_type": "code",
      "source": "# Q2. What are variables in Python? How do you declare and assign values to variables?\n\n# Variables in Python are containers for storing data values.\n# To declare and assign values to variables, you simply use the assignment operator (=)\n\nx = 5  # Declaring an integer variable\ny = \"Hello\"  # Declaring a string variable\nz = 3.14  # Declaring a float variable\n\nprint(x, y, z)",
      "metadata": {
        "trusted": true
      },
      "outputs": [
        {
          "name": "stdout",
          "text": "5 Hello 3.14\n",
          "output_type": "stream"
        }
      ],
      "execution_count": 2
    },
    {
      "cell_type": "code",
      "source": "# Q3. How do you convert one data type to another in Python?\n\n# Python provides built-in functions for type conversion:\n\n# Integer to float\nx = 5\nfloat_x = float(x)\nprint(f\"Integer to float: {x} -> {float_x}\")\n\n# Float to integer\ny = 3.14\nint_y = int(y)\nprint(f\"Float to integer: {y} -> {int_y}\")\n\n# Number to string\nz = 42\nstr_z = str(z)\nprint(f\"Number to string: {z} -> {str_z}\")\n\n# String to integer\na = \"100\"\nint_a = int(a)\nprint(f\"String to integer: {a} -> {int_a}\")\n\n# String to float\nb = \"3.14159\"\nfloat_b = float(b)\nprint(f\"String to float: {b} -> {float_b}\")",
      "metadata": {
        "trusted": true
      },
      "outputs": [
        {
          "name": "stdout",
          "text": "Integer to float: 5 -> 5.0\nFloat to integer: 3.14 -> 3\nNumber to string: 42 -> 42\nString to integer: 100 -> 100\nString to float: 3.14159 -> 3.14159\n",
          "output_type": "stream"
        }
      ],
      "execution_count": 3
    },
    {
      "cell_type": "code",
      "source": "# Q4. How do you write and execute a Python script from the command line?\n\n\"\"\"\nTo write and execute a Python script from the command line:\n\n1. Create a file with a .py extension (e.g., myscript.py) using any text editor.\n2. Write your Python code in the file.\n3. Save the file.\n4. Open a command prompt or terminal.\n5. Navigate to the directory containing your script.\n6. Run the script using the command: python myscript.py\n\nFor example, if your script is:\n\nprint(\"Hello, World!\")\n\nSave it as hello.py and run it from the command line:\n$ python hello.py\n\nThis will output: Hello, World!\n\"\"\"",
      "metadata": {
        "trusted": true
      },
      "outputs": [
        {
          "execution_count": 14,
          "output_type": "execute_result",
          "data": {
            "text/plain": "'\\nTo write and execute a Python script from the command line:\\n\\n1. Create a file with a .py extension (e.g., myscript.py) using any text editor.\\n2. Write your Python code in the file.\\n3. Save the file.\\n4. Open a command prompt or terminal.\\n5. Navigate to the directory containing your script.\\n6. Run the script using the command: python myscript.py\\n\\nFor example, if your script is:\\n\\nprint(\"Hello, World!\")\\n\\nSave it as hello.py and run it from the command line:\\n$ python hello.py\\n\\nThis will output: Hello, World!\\n'"
          },
          "metadata": {}
        }
      ],
      "execution_count": 14
    },
    {
      "cell_type": "code",
      "source": "# Q5. Given a list my_list = [1, 2, 3, 4, 5], write the code to slice the list and obtain the sub-list [2, 3].\n\nmy_list = [1, 2, 3, 4, 5]\nsub_list = my_list[1:3]\nprint(sub_list)",
      "metadata": {
        "trusted": true
      },
      "outputs": [
        {
          "name": "stdout",
          "text": "[2, 3]\n",
          "output_type": "stream"
        }
      ],
      "execution_count": 15
    },
    {
      "cell_type": "code",
      "source": "# Q6. What is a complex number in mathematics, and how is it represented in Python?\n\n\"\"\"\nIn mathematics, a complex number is a number that can be expressed in the form a + bi, \nwhere a and b are real numbers, and i is the imaginary unit (i^2 = -1).\n\nIn Python, complex numbers are represented using the 'complex' class.\n\"\"\"\n\n# Creating a complex number\nz = 3 + 4j\nprint(f\"Complex number: {z}\")\nprint(f\"Real part: {z.real}\")\nprint(f\"Imaginary part: {z.imag}\")",
      "metadata": {
        "trusted": true
      },
      "outputs": [
        {
          "name": "stdout",
          "text": "Complex number: (3+4j)\nReal part: 3.0\nImaginary part: 4.0\n",
          "output_type": "stream"
        }
      ],
      "execution_count": 6
    },
    {
      "cell_type": "code",
      "source": "# Q7. What is the correct way to declare a variable named age and assign the value 25 to it?\n\nage = 25\nprint(f\"Age: {age}\")",
      "metadata": {
        "trusted": true
      },
      "outputs": [
        {
          "name": "stdout",
          "text": "Age: 25\n",
          "output_type": "stream"
        }
      ],
      "execution_count": 7
    },
    {
      "cell_type": "code",
      "source": "# Q8. Declare a variable named price and assign the value 9.99 to it. What data type does this variable belong to?\n\nprice = 9.99\nprint(f\"Price: {price}\")\nprint(f\"Data type of price: {type(price)}\")\n\n# The variable 'price' belongs to the float data type.",
      "metadata": {
        "trusted": true
      },
      "outputs": [
        {
          "name": "stdout",
          "text": "Price: 9.99\nData type of price: <class 'float'>\n",
          "output_type": "stream"
        }
      ],
      "execution_count": 8
    },
    {
      "cell_type": "code",
      "source": "# Q9. Create a variable named name and assign your full name to it as a string. How would you print the value of this variable?\n\nname = \"John Doe\"  # Replace with your full name\nprint(name)\n\n# Alternatively, you can use an f-string for more complex formatting:\nprint(f\"My name is {name}\")",
      "metadata": {
        "trusted": true
      },
      "outputs": [
        {
          "name": "stdout",
          "text": "John Doe\nMy name is John Doe\n",
          "output_type": "stream"
        }
      ],
      "execution_count": 9
    },
    {
      "cell_type": "code",
      "source": "# Q10. Given the string \"Hello, World!\", extract the substring \"World\".\n\ntext = \"Hello, World!\"\nsubstring = text[7:12]\nprint(substring)",
      "metadata": {
        "trusted": true
      },
      "outputs": [
        {
          "name": "stdout",
          "text": "World\n",
          "output_type": "stream"
        }
      ],
      "execution_count": 10
    },
    {
      "cell_type": "code",
      "source": "# Q11. Create a variable named \"is_student\" and assign it a boolean value indicating whether you are currently a student or not.\n\nis_student = True  # Change to False if you're not currently a student\nprint(f\"Am I a student? {is_student}\")",
      "metadata": {
        "trusted": true
      },
      "outputs": [
        {
          "name": "stdout",
          "text": "Am I a student? True\n",
          "output_type": "stream"
        }
      ],
      "execution_count": 11
    }
  ]
}